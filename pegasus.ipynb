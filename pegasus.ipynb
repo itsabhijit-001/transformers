{
  "nbformat": 4,
  "nbformat_minor": 0,
  "metadata": {
    "colab": {
      "name": "pegasus.ipynb",
      "provenance": [],
      "collapsed_sections": [],
      "authorship_tag": "ABX9TyMxjPYz2pzxj7VCQdnITTE8",
      "include_colab_link": true
    },
    "kernelspec": {
      "name": "python3",
      "display_name": "Python 3"
    },
    "language_info": {
      "name": "python"
    }
  },
  "cells": [
    {
      "cell_type": "markdown",
      "metadata": {
        "id": "view-in-github",
        "colab_type": "text"
      },
      "source": [
        "<a href=\"https://colab.research.google.com/github/itsabhijit-001/transformers/blob/main/pegasus.ipynb\" target=\"_parent\"><img src=\"https://colab.research.google.com/assets/colab-badge.svg\" alt=\"Open In Colab\"/></a>"
      ]
    },
    {
      "cell_type": "code",
      "execution_count": 1,
      "metadata": {
        "colab": {
          "base_uri": "https://localhost:8080/"
        },
        "id": "Czvfix4sWKvH",
        "outputId": "c939f847-8c76-4912-902d-38cfb3f00587"
      },
      "outputs": [
        {
          "output_type": "stream",
          "name": "stdout",
          "text": [
            "Requirement already satisfied: transformers in /usr/local/lib/python3.7/dist-packages (4.18.0)\n",
            "Requirement already satisfied: huggingface-hub<1.0,>=0.1.0 in /usr/local/lib/python3.7/dist-packages (from transformers) (0.5.1)\n",
            "Requirement already satisfied: filelock in /usr/local/lib/python3.7/dist-packages (from transformers) (3.6.0)\n",
            "Requirement already satisfied: tokenizers!=0.11.3,<0.13,>=0.11.1 in /usr/local/lib/python3.7/dist-packages (from transformers) (0.11.6)\n",
            "Requirement already satisfied: pyyaml>=5.1 in /usr/local/lib/python3.7/dist-packages (from transformers) (6.0)\n",
            "Requirement already satisfied: importlib-metadata in /usr/local/lib/python3.7/dist-packages (from transformers) (4.11.3)\n",
            "Requirement already satisfied: numpy>=1.17 in /usr/local/lib/python3.7/dist-packages (from transformers) (1.21.5)\n",
            "Requirement already satisfied: sacremoses in /usr/local/lib/python3.7/dist-packages (from transformers) (0.0.49)\n",
            "Requirement already satisfied: regex!=2019.12.17 in /usr/local/lib/python3.7/dist-packages (from transformers) (2019.12.20)\n",
            "Requirement already satisfied: requests in /usr/local/lib/python3.7/dist-packages (from transformers) (2.23.0)\n",
            "Requirement already satisfied: tqdm>=4.27 in /usr/local/lib/python3.7/dist-packages (from transformers) (4.63.0)\n",
            "Requirement already satisfied: packaging>=20.0 in /usr/local/lib/python3.7/dist-packages (from transformers) (21.3)\n",
            "Requirement already satisfied: typing-extensions>=3.7.4.3 in /usr/local/lib/python3.7/dist-packages (from huggingface-hub<1.0,>=0.1.0->transformers) (3.10.0.2)\n",
            "Requirement already satisfied: pyparsing!=3.0.5,>=2.0.2 in /usr/local/lib/python3.7/dist-packages (from packaging>=20.0->transformers) (3.0.7)\n",
            "Requirement already satisfied: zipp>=0.5 in /usr/local/lib/python3.7/dist-packages (from importlib-metadata->transformers) (3.7.0)\n",
            "Requirement already satisfied: urllib3!=1.25.0,!=1.25.1,<1.26,>=1.21.1 in /usr/local/lib/python3.7/dist-packages (from requests->transformers) (1.24.3)\n",
            "Requirement already satisfied: idna<3,>=2.5 in /usr/local/lib/python3.7/dist-packages (from requests->transformers) (2.10)\n",
            "Requirement already satisfied: certifi>=2017.4.17 in /usr/local/lib/python3.7/dist-packages (from requests->transformers) (2021.10.8)\n",
            "Requirement already satisfied: chardet<4,>=3.0.2 in /usr/local/lib/python3.7/dist-packages (from requests->transformers) (3.0.4)\n",
            "Requirement already satisfied: click in /usr/local/lib/python3.7/dist-packages (from sacremoses->transformers) (7.1.2)\n",
            "Requirement already satisfied: six in /usr/local/lib/python3.7/dist-packages (from sacremoses->transformers) (1.15.0)\n",
            "Requirement already satisfied: joblib in /usr/local/lib/python3.7/dist-packages (from sacremoses->transformers) (1.1.0)\n"
          ]
        }
      ],
      "source": [
        "!pip install transformers"
      ]
    },
    {
      "cell_type": "code",
      "source": [
        "!pip install sentencepiece"
      ],
      "metadata": {
        "colab": {
          "base_uri": "https://localhost:8080/"
        },
        "id": "9M72i4AGXzfo",
        "outputId": "9fd3480d-e6a3-4f22-a721-ec2c46158ae9"
      },
      "execution_count": 2,
      "outputs": [
        {
          "output_type": "stream",
          "name": "stdout",
          "text": [
            "Requirement already satisfied: sentencepiece in /usr/local/lib/python3.7/dist-packages (0.1.96)\n"
          ]
        }
      ]
    },
    {
      "cell_type": "code",
      "source": [
        "# Loading tokenizers and model\n",
        "\n",
        "from transformers import PegasusTokenizer, TFPegasusForConditionalGeneration\n",
        "\n",
        "\n",
        "import tensorflow as tf"
      ],
      "metadata": {
        "id": "WCLoW8-mWQl5"
      },
      "execution_count": 3,
      "outputs": []
    },
    {
      "cell_type": "code",
      "source": [
        "# Initializing Tokenizer\n",
        "\n",
        "tokenizer = PegasusTokenizer.from_pretrained(\"google/pegasus-xsum\")\n",
        "\n",
        "# selecting pegasus model trained on xsum dataset\n",
        "model = TFPegasusForConditionalGeneration.from_pretrained(\"google/pegasus-xsum\")\n",
        "\n"
      ],
      "metadata": {
        "colab": {
          "base_uri": "https://localhost:8080/"
        },
        "id": "tdIcH9-SWzxL",
        "outputId": "5b453d0f-41e0-4cb7-d090-87e7ab3b4b73"
      },
      "execution_count": 4,
      "outputs": [
        {
          "output_type": "stream",
          "name": "stderr",
          "text": [
            "All model checkpoint layers were used when initializing TFPegasusForConditionalGeneration.\n",
            "\n",
            "All the layers of TFPegasusForConditionalGeneration were initialized from the model checkpoint at google/pegasus-xsum.\n",
            "If your task is similar to the task the model of the checkpoint was trained on, you can already use TFPegasusForConditionalGeneration for predictions without further training.\n"
          ]
        }
      ]
    },
    {
      "cell_type": "code",
      "source": [
        "# selecting paragraphs to summarize\n",
        "\n",
        "\n",
        "text_to_summarize=[\"Narendra Damodardas Modi (Gujarati: [ˈnəɾendɾə dɑmodəɾˈdɑs ˈmodiː] (audio speaker iconlisten); born 17 September 1950)[a] is an Indian politician serving as the 14th and current prime minister of India since 2014. Modi was the chief minister of Gujarat from 2001 to 2014 and is the Member of Parliament from Varanasi.\",\" He is a member of the Bharatiya Janata Party (BJP) and of the Rashtriya Swayamsevak Sangh (RSS), a right-wing Hindu nationalist paramilitary volunteer organisation. He is the first prime minister to have been born after India's independence in 1947 and the second prime minister not belonging to the Indian National Congress to have won two consecutive majorities in the Lok Sabha, or lower house of Indian of parliament. He is also the longest serving prime minister from a non-Congress party.\"\n",
        "\n",
        "\"Born and raised in Vadnagar, a small town in northeastern Gujarat, Modi completed his secondary education there.\",\" He was introduced to the RSS at age eight. He has drawn attention to having to work as a child in his father's tea stall on the Vadnagar railway station platform, a description that has not been reliably corroborated. At age 18, Modi was married to Jashodaben Chimanlal Modi, whom he abandoned soon after. He left his parental home where she had come to live. He first publicly acknowledged her as his wife more than four decades later when required to do so by Indian law, but has made no contact with her since. Modi has asserted he had travelled in northern India for two years after leaving his parental home, visiting a number of religious centres, but few details of his travels have emerged. Upon his return to Gujarat in 1971, he became a full-time worker for the RSS. After the state of emergency declared by prime minister Indira Gandhi in 1975, Modi went into hiding. The RSS assigned him to the BJP in 1985 and he held several positions within the party hierarchy until 2001, rising to the rank of general secretary.\",\n",
        "\n",
        " \"Modi was appointed Chief Minister of Gujarat in 2001 due to Keshubhai Patel's failing health and poor public image following the earthquake in Bhuj.\",\" Modi was elected to the legislative assembly soon after. His administration has been considered complicit in the 2002 Gujarat riots in which 1044 people were killed, three-quarters of whom were Muslim,[c] or otherwise criticised for its management of the crisis. A Supreme Court of India-appointed Special Investigation Team found no evidence to initiate prosecution proceedings against Modi personally.[d] While his policies as chief minister—credited with encouraging economic growth—have received praise, his administration has been criticised for failing to significantly improve health, poverty and education indices in the state.\",\n",
        "\n",
        " \"Modi led the BJP in the 2014 general election which gave the party a majority in the Indian lower house of parliament, the Lok Sabha, the first time for any single party since 1984. Modi's administration has tried to raise foreign direct investment in the Indian economy and reduced spending on healthcare and social welfare programmes. Modi has attempted to improve efficiency in the bureaucracy; he has centralised power by abolishing the Planning Commission. He began a high-profile sanitation campaign, controversially initiated a demonetisation of high-denomination banknotes and transformation of taxation regime, and weakened or abolished environmental and labour laws.\",\n",
        "\n",
        "\"Under Modi's tenure, India has experienced democratic backsliding. Following his party's victory in the 2019 general election, his administration revoked the special status of Jammu and Kashmir and also introduced the Citizenship Amendment Act, which resulted in widespread protests across the country. Described as engineering a political realignment towards right-wing politics, Modi remains a figure of controversy domestically and internationally over his Hindu nationalist beliefs and his handling of the 2002 Gujarat riots, cited as evidence of an exclusionary social agenda.[g]\"]"
      ],
      "metadata": {
        "id": "FYlF8YY-fhvY"
      },
      "execution_count": 5,
      "outputs": []
    },
    {
      "cell_type": "code",
      "source": [
        "!pip install neattext"
      ],
      "metadata": {
        "id": "wGJ4Oe6zpjuE",
        "outputId": "d5c28050-5f89-4587-85a5-e623dfa20627",
        "colab": {
          "base_uri": "https://localhost:8080/"
        }
      },
      "execution_count": 6,
      "outputs": [
        {
          "output_type": "stream",
          "name": "stdout",
          "text": [
            "Requirement already satisfied: neattext in /usr/local/lib/python3.7/dist-packages (0.1.2)\n"
          ]
        }
      ]
    },
    {
      "cell_type": "code",
      "source": [
        "import  neattext as ntx\n",
        "def clean_text(texts):\n",
        "  lst=[]\n",
        "  for text in texts:\n",
        "    docx = ntx.TextFrame(text=text)\n",
        "    # docx.remove_puncts()\n",
        "    # docx.remove_stopwords()\n",
        "    docx.remove_html_tags()\n",
        "    docx.remove_special_characters()\n",
        "    lst.append(docx.text)\n",
        "  return lst\n",
        "\n",
        "text_to_summarize=clean_text(text_to_summarize)"
      ],
      "metadata": {
        "id": "5GiPdqvinXFc"
      },
      "execution_count": 7,
      "outputs": []
    },
    {
      "cell_type": "code",
      "source": [
        "text_to_summarize"
      ],
      "metadata": {
        "id": "uJ-AYF8OpqSk",
        "outputId": "36730022-1ddf-4695-c739-294f812a4ff5",
        "colab": {
          "base_uri": "https://localhost:8080/"
        }
      },
      "execution_count": 8,
      "outputs": [
        {
          "output_type": "execute_result",
          "data": {
            "text/plain": [
              "['Narendra Damodardas Modi Gujarati nend dmodds modi audio speaker iconlisten born 17 September 1950a is an Indian politician serving as the 14th and current prime minister of India since 2014 Modi was the chief minister of Gujarat from 2001 to 2014 and is the Member of Parliament from Varanasi',\n",
              " ' He is a member of the Bharatiya Janata Party BJP and of the Rashtriya Swayamsevak Sangh RSS a rightwing Hindu nationalist paramilitary volunteer organisation He is the first prime minister to have been born after Indias independence in 1947 and the second prime minister not belonging to the Indian National Congress to have won two consecutive majorities in the Lok Sabha or lower house of Indian of parliament He is also the longest serving prime minister from a nonCongress partyBorn and raised in Vadnagar a small town in northeastern Gujarat Modi completed his secondary education there',\n",
              " ' He was introduced to the RSS at age eight He has drawn attention to having to work as a child in his fathers tea stall on the Vadnagar railway station platform a description that has not been reliably corroborated At age 18 Modi was married to Jashodaben Chimanlal Modi whom he abandoned soon after He left his parental home where she had come to live He first publicly acknowledged her as his wife more than four decades later when required to do so by Indian law but has made no contact with her since Modi has asserted he had travelled in northern India for two years after leaving his parental home visiting a number of religious centres but few details of his travels have emerged Upon his return to Gujarat in 1971 he became a fulltime worker for the RSS After the state of emergency declared by prime minister Indira Gandhi in 1975 Modi went into hiding The RSS assigned him to the BJP in 1985 and he held several positions within the party hierarchy until 2001 rising to the rank of general secretary',\n",
              " 'Modi was appointed Chief Minister of Gujarat in 2001 due to Keshubhai Patels failing health and poor public image following the earthquake in Bhuj',\n",
              " ' Modi was elected to the legislative assembly soon after His administration has been considered complicit in the 2002 Gujarat riots in which 1044 people were killed threequarters of whom were Muslimc or otherwise criticised for its management of the crisis A Supreme Court of Indiaappointed Special Investigation Team found no evidence to initiate prosecution proceedings against Modi personallyd While his policies as chief ministercredited with encouraging economic growthhave received praise his administration has been criticised for failing to significantly improve health poverty and education indices in the state',\n",
              " 'Modi led the BJP in the 2014 general election which gave the party a majority in the Indian lower house of parliament the Lok Sabha the first time for any single party since 1984 Modis administration has tried to raise foreign direct investment in the Indian economy and reduced spending on healthcare and social welfare programmes Modi has attempted to improve efficiency in the bureaucracy he has centralised power by abolishing the Planning Commission He began a highprofile sanitation campaign controversially initiated a demonetisation of highdenomination banknotes and transformation of taxation regime and weakened or abolished environmental and labour laws',\n",
              " 'Under Modis tenure India has experienced democratic backsliding Following his partys victory in the 2019 general election his administration revoked the special status of Jammu and Kashmir and also introduced the Citizenship Amendment Act which resulted in widespread protests across the country Described as engineering a political realignment towards rightwing politics Modi remains a figure of controversy domestically and internationally over his Hindu nationalist beliefs and his handling of the 2002 Gujarat riots cited as evidence of an exclusionary social agendag']"
            ]
          },
          "metadata": {},
          "execution_count": 8
        }
      ]
    },
    {
      "cell_type": "code",
      "source": [
        "# Tokenizing input data\n",
        "\n",
        "inputs = tokenizer(text_to_summarize,\n",
        "                   max_length=2048,\n",
        "                  # tr\n",
        "                   return_tensors=\"tf\",\n",
        "                   truncation=True, \n",
        "                   padding=\"longest\")\n"
      ],
      "metadata": {
        "id": "PufvLi53XXJS"
      },
      "execution_count": 9,
      "outputs": []
    },
    {
      "cell_type": "code",
      "source": [
        "# Generating summary ids\n",
        "\n",
        "summary_ids = model.generate(inputs[\"input_ids\"])\n",
        "\n",
        "# Getting the summary of the text\n",
        "summary=tokenizer.batch_decode(summary_ids, \n",
        "                             skip_special_tokens=True, \n",
        "                             clean_up_tokenization_spaces=False)"
      ],
      "metadata": {
        "id": "dwfcP6UTbSka"
      },
      "execution_count": 10,
      "outputs": []
    },
    {
      "cell_type": "code",
      "source": [
        "print(summary)"
      ],
      "metadata": {
        "id": "CNeu1ysth6PL",
        "outputId": "f8e2609b-16f8-4aea-aafc-07091a093af3",
        "colab": {
          "base_uri": "https://localhost:8080/"
        }
      },
      "execution_count": 11,
      "outputs": [
        {
          "output_type": "stream",
          "name": "stdout",
          "text": [
            "['Narendra Modi is the prime minister of India.', 'Narendra Modi is the prime minister of India.', 'A chronology of key events:', 'Narendra Modi, the prime minister-designate of the Bharatiya Janata Party (BJP), is the chief minister of Gujarat.', \"Narendra Modi is the leader of India's main opposition Bharatiya Janata Party (BJP).\", 'Prime Minister: Narendra Modi', \"Narendra Modi became India's prime minister in May 2014 after leading his Bharatiya Janata Party (BJP) to a resounding victory in the general election.\"]\n"
          ]
        }
      ]
    }
  ]
}